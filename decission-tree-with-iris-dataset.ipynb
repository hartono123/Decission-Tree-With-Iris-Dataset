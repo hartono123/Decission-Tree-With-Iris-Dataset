{
 "cells": [
  {
   "cell_type": "code",
   "execution_count": 1,
   "id": "aa047bab",
   "metadata": {
    "execution": {
     "iopub.execute_input": "2022-07-08T13:15:49.314718Z",
     "iopub.status.busy": "2022-07-08T13:15:49.313982Z",
     "iopub.status.idle": "2022-07-08T13:15:50.384156Z",
     "shell.execute_reply": "2022-07-08T13:15:50.382884Z"
    },
    "id": "8EqxWBMKziba",
    "papermill": {
     "duration": 1.080085,
     "end_time": "2022-07-08T13:15:50.387037",
     "exception": false,
     "start_time": "2022-07-08T13:15:49.306952",
     "status": "completed"
    },
    "tags": []
   },
   "outputs": [],
   "source": [
    "import pandas as pd\n",
    "import matplotlib.pyplot as plt\n",
    "import seaborn as sns\n",
    "\n",
    "%matplotlib inline"
   ]
  },
  {
   "cell_type": "code",
   "execution_count": 2,
   "id": "a760a196",
   "metadata": {
    "execution": {
     "iopub.execute_input": "2022-07-08T13:15:50.397213Z",
     "iopub.status.busy": "2022-07-08T13:15:50.396880Z",
     "iopub.status.idle": "2022-07-08T13:15:50.435304Z",
     "shell.execute_reply": "2022-07-08T13:15:50.434126Z"
    },
    "id": "G7hxcnEv0ETw",
    "outputId": "99ac3655-75dd-4d00-eddd-f7297d8a9c55",
    "papermill": {
     "duration": 0.046138,
     "end_time": "2022-07-08T13:15:50.437754",
     "exception": false,
     "start_time": "2022-07-08T13:15:50.391616",
     "status": "completed"
    },
    "tags": []
   },
   "outputs": [
    {
     "data": {
      "text/html": [
       "<div>\n",
       "<style scoped>\n",
       "    .dataframe tbody tr th:only-of-type {\n",
       "        vertical-align: middle;\n",
       "    }\n",
       "\n",
       "    .dataframe tbody tr th {\n",
       "        vertical-align: top;\n",
       "    }\n",
       "\n",
       "    .dataframe thead th {\n",
       "        text-align: right;\n",
       "    }\n",
       "</style>\n",
       "<table border=\"1\" class=\"dataframe\">\n",
       "  <thead>\n",
       "    <tr style=\"text-align: right;\">\n",
       "      <th></th>\n",
       "      <th>Id</th>\n",
       "      <th>SepalLengthCm</th>\n",
       "      <th>SepalWidthCm</th>\n",
       "      <th>PetalLengthCm</th>\n",
       "      <th>PetalWidthCm</th>\n",
       "      <th>Species</th>\n",
       "    </tr>\n",
       "  </thead>\n",
       "  <tbody>\n",
       "    <tr>\n",
       "      <th>0</th>\n",
       "      <td>1</td>\n",
       "      <td>5.1</td>\n",
       "      <td>3.5</td>\n",
       "      <td>1.4</td>\n",
       "      <td>0.2</td>\n",
       "      <td>Iris-setosa</td>\n",
       "    </tr>\n",
       "    <tr>\n",
       "      <th>1</th>\n",
       "      <td>2</td>\n",
       "      <td>4.9</td>\n",
       "      <td>3.0</td>\n",
       "      <td>1.4</td>\n",
       "      <td>0.2</td>\n",
       "      <td>Iris-setosa</td>\n",
       "    </tr>\n",
       "    <tr>\n",
       "      <th>2</th>\n",
       "      <td>3</td>\n",
       "      <td>4.7</td>\n",
       "      <td>3.2</td>\n",
       "      <td>1.3</td>\n",
       "      <td>0.2</td>\n",
       "      <td>Iris-setosa</td>\n",
       "    </tr>\n",
       "    <tr>\n",
       "      <th>3</th>\n",
       "      <td>4</td>\n",
       "      <td>4.6</td>\n",
       "      <td>3.1</td>\n",
       "      <td>1.5</td>\n",
       "      <td>0.2</td>\n",
       "      <td>Iris-setosa</td>\n",
       "    </tr>\n",
       "    <tr>\n",
       "      <th>4</th>\n",
       "      <td>5</td>\n",
       "      <td>5.0</td>\n",
       "      <td>3.6</td>\n",
       "      <td>1.4</td>\n",
       "      <td>0.2</td>\n",
       "      <td>Iris-setosa</td>\n",
       "    </tr>\n",
       "  </tbody>\n",
       "</table>\n",
       "</div>"
      ],
      "text/plain": [
       "   Id  SepalLengthCm  SepalWidthCm  PetalLengthCm  PetalWidthCm      Species\n",
       "0   1            5.1           3.5            1.4           0.2  Iris-setosa\n",
       "1   2            4.9           3.0            1.4           0.2  Iris-setosa\n",
       "2   3            4.7           3.2            1.3           0.2  Iris-setosa\n",
       "3   4            4.6           3.1            1.5           0.2  Iris-setosa\n",
       "4   5            5.0           3.6            1.4           0.2  Iris-setosa"
      ]
     },
     "execution_count": 2,
     "metadata": {},
     "output_type": "execute_result"
    }
   ],
   "source": [
    "df = pd.read_csv('../input/iris/Iris.csv')\n",
    "df.head()"
   ]
  },
  {
   "cell_type": "code",
   "execution_count": 3,
   "id": "97334fdd",
   "metadata": {
    "execution": {
     "iopub.execute_input": "2022-07-08T13:15:50.448597Z",
     "iopub.status.busy": "2022-07-08T13:15:50.448242Z",
     "iopub.status.idle": "2022-07-08T13:15:50.471553Z",
     "shell.execute_reply": "2022-07-08T13:15:50.470313Z"
    },
    "id": "x0tdTJ6l0JTa",
    "outputId": "1b885873-053b-451a-d087-97d15dc72e06",
    "papermill": {
     "duration": 0.031922,
     "end_time": "2022-07-08T13:15:50.474632",
     "exception": false,
     "start_time": "2022-07-08T13:15:50.442710",
     "status": "completed"
    },
    "tags": []
   },
   "outputs": [
    {
     "name": "stdout",
     "output_type": "stream",
     "text": [
      "<class 'pandas.core.frame.DataFrame'>\n",
      "RangeIndex: 150 entries, 0 to 149\n",
      "Data columns (total 6 columns):\n",
      " #   Column         Non-Null Count  Dtype  \n",
      "---  ------         --------------  -----  \n",
      " 0   Id             150 non-null    int64  \n",
      " 1   SepalLengthCm  150 non-null    float64\n",
      " 2   SepalWidthCm   150 non-null    float64\n",
      " 3   PetalLengthCm  150 non-null    float64\n",
      " 4   PetalWidthCm   150 non-null    float64\n",
      " 5   Species        150 non-null    object \n",
      "dtypes: float64(4), int64(1), object(1)\n",
      "memory usage: 7.2+ KB\n"
     ]
    }
   ],
   "source": [
    "df.info()"
   ]
  },
  {
   "cell_type": "code",
   "execution_count": 4,
   "id": "d9bb9c72",
   "metadata": {
    "execution": {
     "iopub.execute_input": "2022-07-08T13:15:50.485985Z",
     "iopub.status.busy": "2022-07-08T13:15:50.485681Z",
     "iopub.status.idle": "2022-07-08T13:15:50.492247Z",
     "shell.execute_reply": "2022-07-08T13:15:50.491215Z"
    },
    "id": "BgjfSwut0v7H",
    "outputId": "b90550af-5f65-4d23-e422-2911ca16be1c",
    "papermill": {
     "duration": 0.014518,
     "end_time": "2022-07-08T13:15:50.494493",
     "exception": false,
     "start_time": "2022-07-08T13:15:50.479975",
     "status": "completed"
    },
    "tags": []
   },
   "outputs": [
    {
     "data": {
      "text/plain": [
       "(150, 6)"
      ]
     },
     "execution_count": 4,
     "metadata": {},
     "output_type": "execute_result"
    }
   ],
   "source": [
    "df.shape"
   ]
  },
  {
   "cell_type": "code",
   "execution_count": 5,
   "id": "80b7056e",
   "metadata": {
    "execution": {
     "iopub.execute_input": "2022-07-08T13:15:50.504785Z",
     "iopub.status.busy": "2022-07-08T13:15:50.504500Z",
     "iopub.status.idle": "2022-07-08T13:15:50.511765Z",
     "shell.execute_reply": "2022-07-08T13:15:50.510903Z"
    },
    "id": "aHaYvaHK06Kz",
    "outputId": "a8ec4f85-136d-42d7-9cc9-6134f848efbd",
    "papermill": {
     "duration": 0.014632,
     "end_time": "2022-07-08T13:15:50.513737",
     "exception": false,
     "start_time": "2022-07-08T13:15:50.499105",
     "status": "completed"
    },
    "tags": []
   },
   "outputs": [
    {
     "data": {
      "text/plain": [
       "Iris-setosa        50\n",
       "Iris-versicolor    50\n",
       "Iris-virginica     50\n",
       "Name: Species, dtype: int64"
      ]
     },
     "execution_count": 5,
     "metadata": {},
     "output_type": "execute_result"
    }
   ],
   "source": [
    "df[\"Species\"].value_counts()"
   ]
  },
  {
   "cell_type": "code",
   "execution_count": 6,
   "id": "657b9939",
   "metadata": {
    "execution": {
     "iopub.execute_input": "2022-07-08T13:15:50.525061Z",
     "iopub.status.busy": "2022-07-08T13:15:50.524491Z",
     "iopub.status.idle": "2022-07-08T13:15:51.279260Z",
     "shell.execute_reply": "2022-07-08T13:15:51.278331Z"
    },
    "id": "QfFJKrBi1Do1",
    "outputId": "b858cd2c-2e75-4b09-8943-2c1fe91dc4ef",
    "papermill": {
     "duration": 0.763499,
     "end_time": "2022-07-08T13:15:51.281979",
     "exception": false,
     "start_time": "2022-07-08T13:15:50.518480",
     "status": "completed"
    },
    "tags": []
   },
   "outputs": [
    {
     "data": {
      "image/png": "[encoded data removed]",
      "text/plain": [
       "<Figure size 432x288 with 1 Axes>"
      ]
     },
     "metadata": {
      "needs_background": "light"
     },
     "output_type": "display_data"
    },
    {
     "data": {
      "image/png": "[encoded data removed]",
      "text/plain": [
       "<Figure size 432x288 with 1 Axes>"
      ]
     },
     "metadata": {
      "needs_background": "light"
     },
     "output_type": "display_data"
    },
    {
     "data": {
      "image/png": "[encoded data removed]",
      "text/plain": [
       "<Figure size 432x288 with 1 Axes>"
      ]
     },
     "metadata": {
      "needs_background": "light"
     },
     "output_type": "display_data"
    },
    {
     "data": {
      "image/png": "[encoded data removed]",
      "text/plain": [
       "<Figure size 432x288 with 1 Axes>"
      ]
     },
     "metadata": {
      "needs_background": "light"
     },
     "output_type": "display_data"
    }
   ],
   "source": [
    "g = sns.violinplot(y='Species', x='SepalLengthCm', data=df, inner='quartile')\n",
    "plt.show()\n",
    "g = sns.violinplot(y='Species', x='SepalWidthCm', data=df, inner='quartile')\n",
    "plt.show()\n",
    "g = sns.violinplot(y='Species', x='PetalLengthCm', data=df, inner='quartile')\n",
    "plt.show()\n",
    "g = sns.violinplot(y='Species', x='PetalWidthCm', data=df, inner='quartile')\n",
    "plt.show()"
   ]
  },
  {
   "cell_type": "code",
   "execution_count": 7,
   "id": "f25f3ef1",
   "metadata": {
    "execution": {
     "iopub.execute_input": "2022-07-08T13:15:51.297062Z",
     "iopub.status.busy": "2022-07-08T13:15:51.296733Z",
     "iopub.status.idle": "2022-07-08T13:15:51.303482Z",
     "shell.execute_reply": "2022-07-08T13:15:51.302456Z"
    },
    "id": "xvliZ14o147G",
    "papermill": {
     "duration": 0.016971,
     "end_time": "2022-07-08T13:15:51.305552",
     "exception": false,
     "start_time": "2022-07-08T13:15:51.288581",
     "status": "completed"
    },
    "tags": []
   },
   "outputs": [],
   "source": [
    "df.drop('Id', axis=1, inplace=True)"
   ]
  },
  {
   "cell_type": "code",
   "execution_count": 8,
   "id": "c82d5e57",
   "metadata": {
    "execution": {
     "iopub.execute_input": "2022-07-08T13:15:51.319777Z",
     "iopub.status.busy": "2022-07-08T13:15:51.319246Z",
     "iopub.status.idle": "2022-07-08T13:15:51.331449Z",
     "shell.execute_reply": "2022-07-08T13:15:51.330744Z"
    },
    "id": "PzyYkQTf17AN",
    "outputId": "a8115512-ebe5-478f-a0c0-e335fd13e71a",
    "papermill": {
     "duration": 0.021742,
     "end_time": "2022-07-08T13:15:51.333538",
     "exception": false,
     "start_time": "2022-07-08T13:15:51.311796",
     "status": "completed"
    },
    "tags": []
   },
   "outputs": [
    {
     "data": {
      "text/html": [
       "<div>\n",
       "<style scoped>\n",
       "    .dataframe tbody tr th:only-of-type {\n",
       "        vertical-align: middle;\n",
       "    }\n",
       "\n",
       "    .dataframe tbody tr th {\n",
       "        vertical-align: top;\n",
       "    }\n",
       "\n",
       "    .dataframe thead th {\n",
       "        text-align: right;\n",
       "    }\n",
       "</style>\n",
       "<table border=\"1\" class=\"dataframe\">\n",
       "  <thead>\n",
       "    <tr style=\"text-align: right;\">\n",
       "      <th></th>\n",
       "      <th>SepalLengthCm</th>\n",
       "      <th>SepalWidthCm</th>\n",
       "      <th>PetalLengthCm</th>\n",
       "      <th>PetalWidthCm</th>\n",
       "      <th>Species</th>\n",
       "    </tr>\n",
       "  </thead>\n",
       "  <tbody>\n",
       "    <tr>\n",
       "      <th>0</th>\n",
       "      <td>5.1</td>\n",
       "      <td>3.5</td>\n",
       "      <td>1.4</td>\n",
       "      <td>0.2</td>\n",
       "      <td>Iris-setosa</td>\n",
       "    </tr>\n",
       "    <tr>\n",
       "      <th>1</th>\n",
       "      <td>4.9</td>\n",
       "      <td>3.0</td>\n",
       "      <td>1.4</td>\n",
       "      <td>0.2</td>\n",
       "      <td>Iris-setosa</td>\n",
       "    </tr>\n",
       "    <tr>\n",
       "      <th>2</th>\n",
       "      <td>4.7</td>\n",
       "      <td>3.2</td>\n",
       "      <td>1.3</td>\n",
       "      <td>0.2</td>\n",
       "      <td>Iris-setosa</td>\n",
       "    </tr>\n",
       "    <tr>\n",
       "      <th>3</th>\n",
       "      <td>4.6</td>\n",
       "      <td>3.1</td>\n",
       "      <td>1.5</td>\n",
       "      <td>0.2</td>\n",
       "      <td>Iris-setosa</td>\n",
       "    </tr>\n",
       "    <tr>\n",
       "      <th>4</th>\n",
       "      <td>5.0</td>\n",
       "      <td>3.6</td>\n",
       "      <td>1.4</td>\n",
       "      <td>0.2</td>\n",
       "      <td>Iris-setosa</td>\n",
       "    </tr>\n",
       "  </tbody>\n",
       "</table>\n",
       "</div>"
      ],
      "text/plain": [
       "   SepalLengthCm  SepalWidthCm  PetalLengthCm  PetalWidthCm      Species\n",
       "0            5.1           3.5            1.4           0.2  Iris-setosa\n",
       "1            4.9           3.0            1.4           0.2  Iris-setosa\n",
       "2            4.7           3.2            1.3           0.2  Iris-setosa\n",
       "3            4.6           3.1            1.5           0.2  Iris-setosa\n",
       "4            5.0           3.6            1.4           0.2  Iris-setosa"
      ]
     },
     "execution_count": 8,
     "metadata": {},
     "output_type": "execute_result"
    }
   ],
   "source": [
    "df.head()"
   ]
  },
  {
   "cell_type": "code",
   "execution_count": 9,
   "id": "c4bb7155",
   "metadata": {
    "execution": {
     "iopub.execute_input": "2022-07-08T13:15:51.347603Z",
     "iopub.status.busy": "2022-07-08T13:15:51.347286Z",
     "iopub.status.idle": "2022-07-08T13:15:51.596820Z",
     "shell.execute_reply": "2022-07-08T13:15:51.595695Z"
    },
    "id": "oDT88JCF1_Y9",
    "outputId": "4bf8d390-3934-4346-dcc8-d217ed6796b6",
    "papermill": {
     "duration": 0.259067,
     "end_time": "2022-07-08T13:15:51.599010",
     "exception": false,
     "start_time": "2022-07-08T13:15:51.339943",
     "status": "completed"
    },
    "tags": []
   },
   "outputs": [
    {
     "data": {
      "image/png": "[encoded data removed]",
      "text/plain": [
       "<Figure size 432x288 with 2 Axes>"
      ]
     },
     "metadata": {
      "needs_background": "light"
     },
     "output_type": "display_data"
    }
   ],
   "source": [
    "sns.heatmap(df.corr())\n",
    "plt.show()"
   ]
  },
  {
   "cell_type": "code",
   "execution_count": 10,
   "id": "86fecc09",
   "metadata": {
    "execution": {
     "iopub.execute_input": "2022-07-08T13:15:51.615314Z",
     "iopub.status.busy": "2022-07-08T13:15:51.614331Z",
     "iopub.status.idle": "2022-07-08T13:15:51.811804Z",
     "shell.execute_reply": "2022-07-08T13:15:51.810625Z"
    },
    "id": "38E1UYiH2Kdr",
    "papermill": {
     "duration": 0.208309,
     "end_time": "2022-07-08T13:15:51.814449",
     "exception": false,
     "start_time": "2022-07-08T13:15:51.606140",
     "status": "completed"
    },
    "tags": []
   },
   "outputs": [],
   "source": [
    "X = df.drop([\"Species\"],axis = 1)\n",
    "y= df[\"Species\"]\n",
    "from sklearn.model_selection import train_test_split\n",
    "X_train, X_test, y_train, y_test = train_test_split(X, y, test_size = 0.2)"
   ]
  },
  {
   "cell_type": "code",
   "execution_count": 11,
   "id": "fcdbad91",
   "metadata": {
    "execution": {
     "iopub.execute_input": "2022-07-08T13:15:51.830727Z",
     "iopub.status.busy": "2022-07-08T13:15:51.830298Z",
     "iopub.status.idle": "2022-07-08T13:15:51.994156Z",
     "shell.execute_reply": "2022-07-08T13:15:51.993070Z"
    },
    "id": "njt5VJFL2WAA",
    "outputId": "ce4de9d0-840c-4f4c-c19e-d62e8d34758d",
    "papermill": {
     "duration": 0.174958,
     "end_time": "2022-07-08T13:15:51.996546",
     "exception": false,
     "start_time": "2022-07-08T13:15:51.821588",
     "status": "completed"
    },
    "tags": []
   },
   "outputs": [
    {
     "data": {
      "text/plain": [
       "DecisionTreeClassifier()"
      ]
     },
     "execution_count": 11,
     "metadata": {},
     "output_type": "execute_result"
    }
   ],
   "source": [
    "from sklearn.tree import DecisionTreeClassifier\n",
    "clf = DecisionTreeClassifier()\n",
    "clf.fit(X_train, y_train)"
   ]
  },
  {
   "cell_type": "code",
   "execution_count": 12,
   "id": "9020e596",
   "metadata": {
    "execution": {
     "iopub.execute_input": "2022-07-08T13:15:52.012863Z",
     "iopub.status.busy": "2022-07-08T13:15:52.011850Z",
     "iopub.status.idle": "2022-07-08T13:15:52.021760Z",
     "shell.execute_reply": "2022-07-08T13:15:52.020595Z"
    },
    "id": "H2bYtdhE2XrE",
    "outputId": "2deeb881-bf87-4b32-c752-d772e4954f6d",
    "papermill": {
     "duration": 0.021146,
     "end_time": "2022-07-08T13:15:52.024475",
     "exception": false,
     "start_time": "2022-07-08T13:15:52.003329",
     "status": "completed"
    },
    "tags": []
   },
   "outputs": [
    {
     "data": {
      "text/plain": [
       "0.8333333333333334"
      ]
     },
     "execution_count": 12,
     "metadata": {},
     "output_type": "execute_result"
    }
   ],
   "source": [
    "from sklearn.metrics import accuracy_score, confusion_matrix, classification_report\n",
    "prediction = clf.predict(X_test)\n",
    "accuracy_score(y_test,prediction)"
   ]
  },
  {
   "cell_type": "code",
   "execution_count": 13,
   "id": "59d8c387",
   "metadata": {
    "execution": {
     "iopub.execute_input": "2022-07-08T13:15:52.040531Z",
     "iopub.status.busy": "2022-07-08T13:15:52.039954Z",
     "iopub.status.idle": "2022-07-08T13:15:52.049711Z",
     "shell.execute_reply": "2022-07-08T13:15:52.048794Z"
    },
    "id": "tCAeVlg_2bdE",
    "outputId": "58ca4c09-dacb-48d2-c9aa-016eba8f1aa4",
    "papermill": {
     "duration": 0.021388,
     "end_time": "2022-07-08T13:15:52.052995",
     "exception": false,
     "start_time": "2022-07-08T13:15:52.031607",
     "status": "completed"
    },
    "tags": []
   },
   "outputs": [
    {
     "name": "stdout",
     "output_type": "stream",
     "text": [
      "                 precision    recall  f1-score   support\n",
      "\n",
      "    Iris-setosa       1.00      1.00      1.00         7\n",
      "Iris-versicolor       0.75      0.82      0.78        11\n",
      " Iris-virginica       0.82      0.75      0.78        12\n",
      "\n",
      "       accuracy                           0.83        30\n",
      "      macro avg       0.86      0.86      0.86        30\n",
      "   weighted avg       0.84      0.83      0.83        30\n",
      "\n"
     ]
    }
   ],
   "source": [
    "print(classification_report(y_test,prediction))"
   ]
  }
 ],
 "metadata": {
  "kernelspec": {
   "display_name": "Python 3",
   "language": "python",
   "name": "python3"
  },
  "language_info": {
   "codemirror_mode": {
    "name": "ipython",
    "version": 3
   },
   "file_extension": ".py",
   "mimetype": "text/x-python",
   "name": "python",
   "nbconvert_exporter": "python",
   "pygments_lexer": "ipython3",
   "version": "3.7.12"
  },
  "papermill": {
   "default_parameters": {},
   "duration": 13.029991,
   "end_time": "2022-07-08T13:15:52.783316",
   "environment_variables": {},
   "exception": null,
   "input_path": "__notebook__.ipynb",
   "output_path": "__notebook__.ipynb",
   "parameters": {},
   "start_time": "2022-07-08T13:15:39.753325",
   "version": "2.3.4"
  }
 },
 "nbformat": 4,
 "nbformat_minor": 5
}
