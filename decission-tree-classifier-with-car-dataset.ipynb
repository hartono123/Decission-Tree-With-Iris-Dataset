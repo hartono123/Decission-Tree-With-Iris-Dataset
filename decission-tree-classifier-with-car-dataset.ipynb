{
 "cells": [
  {
   "cell_type": "code",
   "execution_count": 1,
   "id": "4bd848bd",
   "metadata": {
    "execution": {
     "iopub.execute_input": "2022-07-12T06:49:23.380899Z",
     "iopub.status.busy": "2022-07-12T06:49:23.380411Z",
     "iopub.status.idle": "2022-07-12T06:49:24.526173Z",
     "shell.execute_reply": "2022-07-12T06:49:24.525034Z"
    },
    "id": "r_xbMyxv0gL-",
    "papermill": {
     "duration": 1.155668,
     "end_time": "2022-07-12T06:49:24.529163",
     "exception": false,
     "start_time": "2022-07-12T06:49:23.373495",
     "status": "completed"
    },
    "tags": []
   },
   "outputs": [],
   "source": [
    "import pandas as pd\n",
    "import matplotlib.pyplot as plt\n",
    "import seaborn as sns\n",
    "\n",
    "%matplotlib inline"
   ]
  },
  {
   "cell_type": "code",
   "execution_count": 2,
   "id": "296f0073",
   "metadata": {
    "execution": {
     "iopub.execute_input": "2022-07-12T06:49:24.540095Z",
     "iopub.status.busy": "2022-07-12T06:49:24.539705Z",
     "iopub.status.idle": "2022-07-12T06:49:24.577158Z",
     "shell.execute_reply": "2022-07-12T06:49:24.575915Z"
    },
    "id": "uFl5n_Ov0ttH",
    "outputId": "54786cc8-a218-4e4b-f99a-a6c2bdf929f0",
    "papermill": {
     "duration": 0.046414,
     "end_time": "2022-07-12T06:49:24.580190",
     "exception": false,
     "start_time": "2022-07-12T06:49:24.533776",
     "status": "completed"
    },
    "tags": []
   },
   "outputs": [
    {
     "data": {
      "text/html": [
       "<div>\n",
       "<style scoped>\n",
       "    .dataframe tbody tr th:only-of-type {\n",
       "        vertical-align: middle;\n",
       "    }\n",
       "\n",
       "    .dataframe tbody tr th {\n",
       "        vertical-align: top;\n",
       "    }\n",
       "\n",
       "    .dataframe thead th {\n",
       "        text-align: right;\n",
       "    }\n",
       "</style>\n",
       "<table border=\"1\" class=\"dataframe\">\n",
       "  <thead>\n",
       "    <tr style=\"text-align: right;\">\n",
       "      <th></th>\n",
       "      <th>User ID</th>\n",
       "      <th>Gender</th>\n",
       "      <th>Age</th>\n",
       "      <th>AnnualSalary</th>\n",
       "      <th>Purchased</th>\n",
       "    </tr>\n",
       "  </thead>\n",
       "  <tbody>\n",
       "    <tr>\n",
       "      <th>0</th>\n",
       "      <td>385</td>\n",
       "      <td>Male</td>\n",
       "      <td>35</td>\n",
       "      <td>20000</td>\n",
       "      <td>0</td>\n",
       "    </tr>\n",
       "    <tr>\n",
       "      <th>1</th>\n",
       "      <td>681</td>\n",
       "      <td>Male</td>\n",
       "      <td>40</td>\n",
       "      <td>43500</td>\n",
       "      <td>0</td>\n",
       "    </tr>\n",
       "    <tr>\n",
       "      <th>2</th>\n",
       "      <td>353</td>\n",
       "      <td>Male</td>\n",
       "      <td>49</td>\n",
       "      <td>74000</td>\n",
       "      <td>0</td>\n",
       "    </tr>\n",
       "    <tr>\n",
       "      <th>3</th>\n",
       "      <td>895</td>\n",
       "      <td>Male</td>\n",
       "      <td>40</td>\n",
       "      <td>107500</td>\n",
       "      <td>1</td>\n",
       "    </tr>\n",
       "    <tr>\n",
       "      <th>4</th>\n",
       "      <td>661</td>\n",
       "      <td>Male</td>\n",
       "      <td>25</td>\n",
       "      <td>79000</td>\n",
       "      <td>0</td>\n",
       "    </tr>\n",
       "  </tbody>\n",
       "</table>\n",
       "</div>"
      ],
      "text/plain": [
       "   User ID Gender  Age  AnnualSalary  Purchased\n",
       "0      385   Male   35         20000          0\n",
       "1      681   Male   40         43500          0\n",
       "2      353   Male   49         74000          0\n",
       "3      895   Male   40        107500          1\n",
       "4      661   Male   25         79000          0"
      ]
     },
     "execution_count": 2,
     "metadata": {},
     "output_type": "execute_result"
    }
   ],
   "source": [
    "df = pd.read_csv('../input/cars-purchase-decision-dataset/car_data.csv')\n",
    "df.head()"
   ]
  },
  {
   "cell_type": "code",
   "execution_count": 3,
   "id": "0d6062a4",
   "metadata": {
    "execution": {
     "iopub.execute_input": "2022-07-12T06:49:24.591249Z",
     "iopub.status.busy": "2022-07-12T06:49:24.590866Z",
     "iopub.status.idle": "2022-07-12T06:49:24.608077Z",
     "shell.execute_reply": "2022-07-12T06:49:24.607240Z"
    },
    "id": "nkcVa2ek03yw",
    "outputId": "cea6acde-8e1a-4dfa-ad6a-82435f99b35e",
    "papermill": {
     "duration": 0.025055,
     "end_time": "2022-07-12T06:49:24.610032",
     "exception": false,
     "start_time": "2022-07-12T06:49:24.584977",
     "status": "completed"
    },
    "tags": []
   },
   "outputs": [
    {
     "data": {
      "text/plain": [
       "385    1\n",
       "310    1\n",
       "137    1\n",
       "101    1\n",
       "623    1\n",
       "      ..\n",
       "753    1\n",
       "389    1\n",
       "792    1\n",
       "783    1\n",
       "687    1\n",
       "Name: User ID, Length: 1000, dtype: int64"
      ]
     },
     "execution_count": 3,
     "metadata": {},
     "output_type": "execute_result"
    }
   ],
   "source": [
    "df['User ID'].value_counts()"
   ]
  },
  {
   "cell_type": "code",
   "execution_count": 4,
   "id": "0a64230f",
   "metadata": {
    "execution": {
     "iopub.execute_input": "2022-07-12T06:49:24.621310Z",
     "iopub.status.busy": "2022-07-12T06:49:24.620642Z",
     "iopub.status.idle": "2022-07-12T06:49:24.628600Z",
     "shell.execute_reply": "2022-07-12T06:49:24.627771Z"
    },
    "id": "w_Q8B6Ps1Fpw",
    "outputId": "40ddfd04-f69c-431d-84ee-8c2095e72865",
    "papermill": {
     "duration": 0.01603,
     "end_time": "2022-07-12T06:49:24.630573",
     "exception": false,
     "start_time": "2022-07-12T06:49:24.614543",
     "status": "completed"
    },
    "tags": []
   },
   "outputs": [
    {
     "data": {
      "text/plain": [
       "Female    516\n",
       "Male      484\n",
       "Name: Gender, dtype: int64"
      ]
     },
     "execution_count": 4,
     "metadata": {},
     "output_type": "execute_result"
    }
   ],
   "source": [
    "df['Gender'].value_counts()"
   ]
  },
  {
   "cell_type": "code",
   "execution_count": 5,
   "id": "76ced55d",
   "metadata": {
    "execution": {
     "iopub.execute_input": "2022-07-12T06:49:24.641782Z",
     "iopub.status.busy": "2022-07-12T06:49:24.640637Z",
     "iopub.status.idle": "2022-07-12T06:49:24.648710Z",
     "shell.execute_reply": "2022-07-12T06:49:24.647890Z"
    },
    "id": "ThyLN1X_1cCC",
    "outputId": "d5992da9-5892-4ba2-cc48-0e256bd342f1",
    "papermill": {
     "duration": 0.015574,
     "end_time": "2022-07-12T06:49:24.650651",
     "exception": false,
     "start_time": "2022-07-12T06:49:24.635077",
     "status": "completed"
    },
    "tags": []
   },
   "outputs": [
    {
     "data": {
      "text/plain": [
       "0    598\n",
       "1    402\n",
       "Name: Purchased, dtype: int64"
      ]
     },
     "execution_count": 5,
     "metadata": {},
     "output_type": "execute_result"
    }
   ],
   "source": [
    "df['Purchased'].value_counts()"
   ]
  },
  {
   "cell_type": "code",
   "execution_count": 6,
   "id": "422b59d2",
   "metadata": {
    "execution": {
     "iopub.execute_input": "2022-07-12T06:49:24.662046Z",
     "iopub.status.busy": "2022-07-12T06:49:24.661015Z",
     "iopub.status.idle": "2022-07-12T06:49:24.892249Z",
     "shell.execute_reply": "2022-07-12T06:49:24.891122Z"
    },
    "id": "bodtne1B4AsT",
    "outputId": "dddd75c8-db58-4fd8-9d8d-e8373c223ea4",
    "papermill": {
     "duration": 0.239262,
     "end_time": "2022-07-12T06:49:24.894536",
     "exception": false,
     "start_time": "2022-07-12T06:49:24.655274",
     "status": "completed"
    },
    "tags": []
   },
   "outputs": [
    {
     "data": {
      "image/png": "[encoded data removed]",
      "text/plain": [
       "<Figure size 432x288 with 1 Axes>"
      ]
     },
     "metadata": {
      "needs_background": "light"
     },
     "output_type": "display_data"
    }
   ],
   "source": [
    "sns.pointplot(x=\"Gender\", y=\"Purchased\", data=df)\n",
    "plt.show()"
   ]
  },
  {
   "cell_type": "code",
   "execution_count": 7,
   "id": "6b9b2ba5",
   "metadata": {
    "execution": {
     "iopub.execute_input": "2022-07-12T06:49:24.906252Z",
     "iopub.status.busy": "2022-07-12T06:49:24.905649Z",
     "iopub.status.idle": "2022-07-12T06:49:24.910386Z",
     "shell.execute_reply": "2022-07-12T06:49:24.909613Z"
    },
    "id": "yZE7IzDA5OIB",
    "papermill": {
     "duration": 0.012907,
     "end_time": "2022-07-12T06:49:24.912366",
     "exception": false,
     "start_time": "2022-07-12T06:49:24.899459",
     "status": "completed"
    },
    "tags": []
   },
   "outputs": [],
   "source": [
    "categorical = [\"Gender\"]"
   ]
  },
  {
   "cell_type": "code",
   "execution_count": 8,
   "id": "767d63d9",
   "metadata": {
    "execution": {
     "iopub.execute_input": "2022-07-12T06:49:24.924411Z",
     "iopub.status.busy": "2022-07-12T06:49:24.923822Z",
     "iopub.status.idle": "2022-07-12T06:49:24.933420Z",
     "shell.execute_reply": "2022-07-12T06:49:24.932531Z"
    },
    "id": "ohr68Wv55zZs",
    "papermill": {
     "duration": 0.018311,
     "end_time": "2022-07-12T06:49:24.935819",
     "exception": false,
     "start_time": "2022-07-12T06:49:24.917508",
     "status": "completed"
    },
    "tags": []
   },
   "outputs": [],
   "source": [
    "df_final = pd.get_dummies(df, columns=categorical, drop_first=True)"
   ]
  },
  {
   "cell_type": "code",
   "execution_count": 9,
   "id": "1e66046d",
   "metadata": {
    "execution": {
     "iopub.execute_input": "2022-07-12T06:49:24.948292Z",
     "iopub.status.busy": "2022-07-12T06:49:24.947568Z",
     "iopub.status.idle": "2022-07-12T06:49:24.958573Z",
     "shell.execute_reply": "2022-07-12T06:49:24.957868Z"
    },
    "id": "MTA7wStE51gC",
    "outputId": "c87234d8-4481-42f6-8a68-18ffff301e41",
    "papermill": {
     "duration": 0.019548,
     "end_time": "2022-07-12T06:49:24.960514",
     "exception": false,
     "start_time": "2022-07-12T06:49:24.940966",
     "status": "completed"
    },
    "tags": []
   },
   "outputs": [
    {
     "data": {
      "text/html": [
       "<div>\n",
       "<style scoped>\n",
       "    .dataframe tbody tr th:only-of-type {\n",
       "        vertical-align: middle;\n",
       "    }\n",
       "\n",
       "    .dataframe tbody tr th {\n",
       "        vertical-align: top;\n",
       "    }\n",
       "\n",
       "    .dataframe thead th {\n",
       "        text-align: right;\n",
       "    }\n",
       "</style>\n",
       "<table border=\"1\" class=\"dataframe\">\n",
       "  <thead>\n",
       "    <tr style=\"text-align: right;\">\n",
       "      <th></th>\n",
       "      <th>User ID</th>\n",
       "      <th>Age</th>\n",
       "      <th>AnnualSalary</th>\n",
       "      <th>Purchased</th>\n",
       "      <th>Gender_Male</th>\n",
       "    </tr>\n",
       "  </thead>\n",
       "  <tbody>\n",
       "    <tr>\n",
       "      <th>0</th>\n",
       "      <td>385</td>\n",
       "      <td>35</td>\n",
       "      <td>20000</td>\n",
       "      <td>0</td>\n",
       "      <td>1</td>\n",
       "    </tr>\n",
       "    <tr>\n",
       "      <th>1</th>\n",
       "      <td>681</td>\n",
       "      <td>40</td>\n",
       "      <td>43500</td>\n",
       "      <td>0</td>\n",
       "      <td>1</td>\n",
       "    </tr>\n",
       "    <tr>\n",
       "      <th>2</th>\n",
       "      <td>353</td>\n",
       "      <td>49</td>\n",
       "      <td>74000</td>\n",
       "      <td>0</td>\n",
       "      <td>1</td>\n",
       "    </tr>\n",
       "    <tr>\n",
       "      <th>3</th>\n",
       "      <td>895</td>\n",
       "      <td>40</td>\n",
       "      <td>107500</td>\n",
       "      <td>1</td>\n",
       "      <td>1</td>\n",
       "    </tr>\n",
       "    <tr>\n",
       "      <th>4</th>\n",
       "      <td>661</td>\n",
       "      <td>25</td>\n",
       "      <td>79000</td>\n",
       "      <td>0</td>\n",
       "      <td>1</td>\n",
       "    </tr>\n",
       "    <tr>\n",
       "      <th>...</th>\n",
       "      <td>...</td>\n",
       "      <td>...</td>\n",
       "      <td>...</td>\n",
       "      <td>...</td>\n",
       "      <td>...</td>\n",
       "    </tr>\n",
       "    <tr>\n",
       "      <th>995</th>\n",
       "      <td>863</td>\n",
       "      <td>38</td>\n",
       "      <td>59000</td>\n",
       "      <td>0</td>\n",
       "      <td>1</td>\n",
       "    </tr>\n",
       "    <tr>\n",
       "      <th>996</th>\n",
       "      <td>800</td>\n",
       "      <td>47</td>\n",
       "      <td>23500</td>\n",
       "      <td>0</td>\n",
       "      <td>0</td>\n",
       "    </tr>\n",
       "    <tr>\n",
       "      <th>997</th>\n",
       "      <td>407</td>\n",
       "      <td>28</td>\n",
       "      <td>138500</td>\n",
       "      <td>1</td>\n",
       "      <td>0</td>\n",
       "    </tr>\n",
       "    <tr>\n",
       "      <th>998</th>\n",
       "      <td>299</td>\n",
       "      <td>48</td>\n",
       "      <td>134000</td>\n",
       "      <td>1</td>\n",
       "      <td>0</td>\n",
       "    </tr>\n",
       "    <tr>\n",
       "      <th>999</th>\n",
       "      <td>687</td>\n",
       "      <td>44</td>\n",
       "      <td>73500</td>\n",
       "      <td>0</td>\n",
       "      <td>0</td>\n",
       "    </tr>\n",
       "  </tbody>\n",
       "</table>\n",
       "<p>1000 rows × 5 columns</p>\n",
       "</div>"
      ],
      "text/plain": [
       "     User ID  Age  AnnualSalary  Purchased  Gender_Male\n",
       "0        385   35         20000          0            1\n",
       "1        681   40         43500          0            1\n",
       "2        353   49         74000          0            1\n",
       "3        895   40        107500          1            1\n",
       "4        661   25         79000          0            1\n",
       "..       ...  ...           ...        ...          ...\n",
       "995      863   38         59000          0            1\n",
       "996      800   47         23500          0            0\n",
       "997      407   28        138500          1            0\n",
       "998      299   48        134000          1            0\n",
       "999      687   44         73500          0            0\n",
       "\n",
       "[1000 rows x 5 columns]"
      ]
     },
     "execution_count": 9,
     "metadata": {},
     "output_type": "execute_result"
    }
   ],
   "source": [
    "df_final"
   ]
  },
  {
   "cell_type": "code",
   "execution_count": 10,
   "id": "9dc3adef",
   "metadata": {
    "execution": {
     "iopub.execute_input": "2022-07-12T06:49:24.973165Z",
     "iopub.status.busy": "2022-07-12T06:49:24.972215Z",
     "iopub.status.idle": "2022-07-12T06:49:24.979833Z",
     "shell.execute_reply": "2022-07-12T06:49:24.979007Z"
    },
    "id": "_3BVP9BO574O",
    "outputId": "98266cc3-2bf0-4667-b3bb-153d761e98d7",
    "papermill": {
     "duration": 0.016315,
     "end_time": "2022-07-12T06:49:24.982097",
     "exception": false,
     "start_time": "2022-07-12T06:49:24.965782",
     "status": "completed"
    },
    "tags": []
   },
   "outputs": [
    {
     "data": {
      "text/plain": [
       "0    516\n",
       "1    484\n",
       "Name: Gender_Male, dtype: int64"
      ]
     },
     "execution_count": 10,
     "metadata": {},
     "output_type": "execute_result"
    }
   ],
   "source": [
    "df_final['Gender_Male'].value_counts()"
   ]
  },
  {
   "cell_type": "code",
   "execution_count": 11,
   "id": "0059e0ed",
   "metadata": {
    "execution": {
     "iopub.execute_input": "2022-07-12T06:49:24.994178Z",
     "iopub.status.busy": "2022-07-12T06:49:24.993781Z",
     "iopub.status.idle": "2022-07-12T06:49:25.189222Z",
     "shell.execute_reply": "2022-07-12T06:49:25.188419Z"
    },
    "id": "O2L5atzx6TSS",
    "outputId": "fcbef953-405a-4cce-c1fd-6ecc5919dae0",
    "papermill": {
     "duration": 0.203813,
     "end_time": "2022-07-12T06:49:25.191256",
     "exception": false,
     "start_time": "2022-07-12T06:49:24.987443",
     "status": "completed"
    },
    "tags": []
   },
   "outputs": [
    {
     "data": {
      "image/png": "[encoded data removed]",
      "text/plain": [
       "<Figure size 432x288 with 1 Axes>"
      ]
     },
     "metadata": {
      "needs_background": "light"
     },
     "output_type": "display_data"
    }
   ],
   "source": [
    "ax = sns.regplot(x=\"AnnualSalary\", y=\"Gender_Male\", data=df_final,ci=None)"
   ]
  },
  {
   "cell_type": "code",
   "execution_count": 12,
   "id": "367bc4e9",
   "metadata": {
    "execution": {
     "iopub.execute_input": "2022-07-12T06:49:25.204214Z",
     "iopub.status.busy": "2022-07-12T06:49:25.203396Z",
     "iopub.status.idle": "2022-07-12T06:49:25.401297Z",
     "shell.execute_reply": "2022-07-12T06:49:25.400127Z"
    },
    "id": "2-DWXabhF93o",
    "papermill": {
     "duration": 0.207216,
     "end_time": "2022-07-12T06:49:25.404059",
     "exception": false,
     "start_time": "2022-07-12T06:49:25.196843",
     "status": "completed"
    },
    "tags": []
   },
   "outputs": [],
   "source": [
    "from sklearn.model_selection import train_test_split"
   ]
  },
  {
   "cell_type": "code",
   "execution_count": 13,
   "id": "fcaf34e8",
   "metadata": {
    "execution": {
     "iopub.execute_input": "2022-07-12T06:49:25.417677Z",
     "iopub.status.busy": "2022-07-12T06:49:25.416552Z",
     "iopub.status.idle": "2022-07-12T06:49:25.424162Z",
     "shell.execute_reply": "2022-07-12T06:49:25.423346Z"
    },
    "id": "4vV-8073GBk8",
    "papermill": {
     "duration": 0.01635,
     "end_time": "2022-07-12T06:49:25.426231",
     "exception": false,
     "start_time": "2022-07-12T06:49:25.409881",
     "status": "completed"
    },
    "tags": []
   },
   "outputs": [],
   "source": [
    "X = df_final.drop('Purchased', axis=1)\n",
    "y = df_final['Purchased']\n",
    "X_train, X_test, y_train, y_test =  train_test_split(X,y,test_size = 0.3, random_state= 42)"
   ]
  },
  {
   "cell_type": "code",
   "execution_count": 14,
   "id": "28f8a24f",
   "metadata": {
    "execution": {
     "iopub.execute_input": "2022-07-12T06:49:25.439434Z",
     "iopub.status.busy": "2022-07-12T06:49:25.438413Z",
     "iopub.status.idle": "2022-07-12T06:49:25.443209Z",
     "shell.execute_reply": "2022-07-12T06:49:25.442443Z"
    },
    "id": "96KJpnRyGHbb",
    "papermill": {
     "duration": 0.013401,
     "end_time": "2022-07-12T06:49:25.445176",
     "exception": false,
     "start_time": "2022-07-12T06:49:25.431775",
     "status": "completed"
    },
    "tags": []
   },
   "outputs": [],
   "source": [
    "from sklearn.preprocessing import StandardScaler"
   ]
  },
  {
   "cell_type": "code",
   "execution_count": 15,
   "id": "bd108576",
   "metadata": {
    "execution": {
     "iopub.execute_input": "2022-07-12T06:49:25.458419Z",
     "iopub.status.busy": "2022-07-12T06:49:25.457854Z",
     "iopub.status.idle": "2022-07-12T06:49:25.467439Z",
     "shell.execute_reply": "2022-07-12T06:49:25.466330Z"
    },
    "id": "tqLNU7VTGJVJ",
    "papermill": {
     "duration": 0.019021,
     "end_time": "2022-07-12T06:49:25.469727",
     "exception": false,
     "start_time": "2022-07-12T06:49:25.450706",
     "status": "completed"
    },
    "tags": []
   },
   "outputs": [],
   "source": [
    "scaler = StandardScaler()\n",
    "X_train = scaler.fit_transform(X_train)\n",
    "X_test = scaler.transform(X_test)"
   ]
  },
  {
   "cell_type": "code",
   "execution_count": 16,
   "id": "c61ac765",
   "metadata": {
    "execution": {
     "iopub.execute_input": "2022-07-12T06:49:25.482633Z",
     "iopub.status.busy": "2022-07-12T06:49:25.481669Z",
     "iopub.status.idle": "2022-07-12T06:49:25.638173Z",
     "shell.execute_reply": "2022-07-12T06:49:25.637057Z"
    },
    "id": "ycFYaTwKGPur",
    "papermill": {
     "duration": 0.1657,
     "end_time": "2022-07-12T06:49:25.640913",
     "exception": false,
     "start_time": "2022-07-12T06:49:25.475213",
     "status": "completed"
    },
    "tags": []
   },
   "outputs": [],
   "source": [
    "from sklearn.tree import DecisionTreeClassifier"
   ]
  },
  {
   "cell_type": "code",
   "execution_count": 17,
   "id": "5c2bb0c2",
   "metadata": {
    "execution": {
     "iopub.execute_input": "2022-07-12T06:49:25.654218Z",
     "iopub.status.busy": "2022-07-12T06:49:25.653555Z",
     "iopub.status.idle": "2022-07-12T06:49:25.661821Z",
     "shell.execute_reply": "2022-07-12T06:49:25.660739Z"
    },
    "id": "TWj1faOVGREj",
    "papermill": {
     "duration": 0.017421,
     "end_time": "2022-07-12T06:49:25.664250",
     "exception": false,
     "start_time": "2022-07-12T06:49:25.646829",
     "status": "completed"
    },
    "tags": []
   },
   "outputs": [],
   "source": [
    "model = DecisionTreeClassifier()\n",
    "model = model.fit(X_train,y_train)"
   ]
  },
  {
   "cell_type": "code",
   "execution_count": 18,
   "id": "5b92164e",
   "metadata": {
    "execution": {
     "iopub.execute_input": "2022-07-12T06:49:25.677556Z",
     "iopub.status.busy": "2022-07-12T06:49:25.677098Z",
     "iopub.status.idle": "2022-07-12T06:49:25.682895Z",
     "shell.execute_reply": "2022-07-12T06:49:25.681774Z"
    },
    "id": "YX_nrTlBGWtl",
    "papermill": {
     "duration": 0.014571,
     "end_time": "2022-07-12T06:49:25.684961",
     "exception": false,
     "start_time": "2022-07-12T06:49:25.670390",
     "status": "completed"
    },
    "tags": []
   },
   "outputs": [],
   "source": [
    "predictions = model.predict(X_test)"
   ]
  },
  {
   "cell_type": "code",
   "execution_count": 19,
   "id": "53e3b752",
   "metadata": {
    "execution": {
     "iopub.execute_input": "2022-07-12T06:49:25.697285Z",
     "iopub.status.busy": "2022-07-12T06:49:25.696975Z",
     "iopub.status.idle": "2022-07-12T06:49:25.710416Z",
     "shell.execute_reply": "2022-07-12T06:49:25.708760Z"
    },
    "id": "Os8BfNlaGZHT",
    "outputId": "29102cb7-1b8a-4671-e20d-c64e31147e83",
    "papermill": {
     "duration": 0.022423,
     "end_time": "2022-07-12T06:49:25.712774",
     "exception": false,
     "start_time": "2022-07-12T06:49:25.690351",
     "status": "completed"
    },
    "tags": []
   },
   "outputs": [
    {
     "name": "stdout",
     "output_type": "stream",
     "text": [
      "              precision    recall  f1-score   support\n",
      "\n",
      "           0       0.87      0.91      0.89       172\n",
      "           1       0.87      0.81      0.84       128\n",
      "\n",
      "    accuracy                           0.87       300\n",
      "   macro avg       0.87      0.86      0.86       300\n",
      "weighted avg       0.87      0.87      0.87       300\n",
      "\n",
      "\n",
      "\n",
      "[[156  16]\n",
      " [ 24 104]]\n"
     ]
    }
   ],
   "source": [
    "from sklearn.metrics import classification_report, confusion_matrix\n",
    "\n",
    "print(classification_report(y_test, predictions))\n",
    "print(\"\\n\")\n",
    "print(confusion_matrix(y_test,predictions))"
   ]
  }
 ],
 "metadata": {
  "kernelspec": {
   "display_name": "Python 3",
   "language": "python",
   "name": "python3"
  },
  "language_info": {
   "codemirror_mode": {
    "name": "ipython",
    "version": 3
   },
   "file_extension": ".py",
   "mimetype": "text/x-python",
   "name": "python",
   "nbconvert_exporter": "python",
   "pygments_lexer": "ipython3",
   "version": "3.7.12"
  },
  "papermill": {
   "default_parameters": {},
   "duration": 11.932355,
   "end_time": "2022-07-12T06:49:26.439362",
   "environment_variables": {},
   "exception": null,
   "input_path": "__notebook__.ipynb",
   "output_path": "__notebook__.ipynb",
   "parameters": {},
   "start_time": "2022-07-12T06:49:14.507007",
   "version": "2.3.4"
  }
 },
 "nbformat": 4,
 "nbformat_minor": 5
}
